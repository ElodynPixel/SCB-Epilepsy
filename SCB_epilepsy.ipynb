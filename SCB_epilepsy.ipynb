{
  "nbformat": 4,
  "nbformat_minor": 0,
  "metadata": {
    "colab": {
      "name": "SCB-epilepsy.ipynb",
      "provenance": [],
      "collapsed_sections": [],
      "authorship_tag": "ABX9TyO22PQYP212+1QrIHR8+auF",
      "include_colab_link": true
    },
    "kernelspec": {
      "name": "python3",
      "display_name": "Python 3"
    },
    "language_info": {
      "name": "python"
    }
  },
  "cells": [
    {
      "cell_type": "markdown",
      "metadata": {
        "id": "view-in-github",
        "colab_type": "text"
      },
      "source": [
        "<a href=\"https://colab.research.google.com/github/ElodynPixel/SCB-Epilepsy/blob/main/SCB_epilepsy.ipynb\" target=\"_parent\"><img src=\"https://colab.research.google.com/assets/colab-badge.svg\" alt=\"Open In Colab\"/></a>"
      ]
    },
    {
      "cell_type": "code",
      "metadata": {
        "id": "RqPwH4EW7bmJ"
      },
      "source": [
        "# Description: A Smart Chatbot to learn more about Chronic Kidney disease"
      ],
      "execution_count": null,
      "outputs": []
    },
    {
      "cell_type": "code",
      "metadata": {
        "id": "uyPpDacH73li"
      },
      "source": [
        "pip install nltk"
      ],
      "execution_count": null,
      "outputs": []
    },
    {
      "cell_type": "code",
      "metadata": {
        "id": "4fh3i0HDQxv8"
      },
      "source": [
        "pip install newspaper3k"
      ],
      "execution_count": null,
      "outputs": []
    },
    {
      "cell_type": "code",
      "metadata": {
        "id": "HBDaGzy3Q-Vr"
      },
      "source": [
        "# Importing all the libraries that are necessary\n",
        "from newspaper import Article\n",
        "import random\n",
        "import string\n",
        "import nltk\n",
        "from sklearn.feature_extraction.text import CountVectorizer\n",
        "from sklearn.metrics.pairwise import cosine_similarity\n",
        "import numpy as np\n",
        "import warnings\n",
        "warnings.filterwarnings('ignore')"
      ],
      "execution_count": null,
      "outputs": []
    },
    {
      "cell_type": "code",
      "metadata": {
        "colab": {
          "base_uri": "https://localhost:8080/"
        },
        "id": "2PjRurjWRCYb",
        "outputId": "b32d6d17-b68e-404a-ad62-1dc2fbe4b7e5"
      },
      "source": [
        "#Download a punkt package\n",
        "nltk.download('punkt', quiet=True)\n"
      ],
      "execution_count": null,
      "outputs": [
        {
          "output_type": "execute_result",
          "data": {
            "text/plain": [
              "True"
            ]
          },
          "metadata": {
            "tags": []
          },
          "execution_count": 66
        }
      ]
    },
    {
      "cell_type": "code",
      "metadata": {
        "id": "K7-vqC8HmsQ0"
      },
      "source": [
        "article = Article('https://www.mayoclinic.org/diseases-conditions/diabetic-nephropathy/symptoms-causes/syc-20354556')\n",
        "article.download()\n",
        "article.parse()\n",
        "article.nlp()\n",
        "corpus = article.text\n"
      ],
      "execution_count": null,
      "outputs": []
    },
    {
      "cell_type": "code",
      "metadata": {
        "id": "sp5zo6yDoENc"
      },
      "source": [
        "print(corpus)"
      ],
      "execution_count": null,
      "outputs": []
    },
    {
      "cell_type": "code",
      "metadata": {
        "id": "bvsJYt9QRG00"
      },
      "source": [
        "#Tokenization\n",
        "text = corpus\n",
        "sentence_list = nltk.sent_tokenize(text) # A list of sentences\n"
      ],
      "execution_count": null,
      "outputs": []
    },
    {
      "cell_type": "code",
      "metadata": {
        "id": "p0O-S3JEouYS"
      },
      "source": [
        "#Print the list of sentences\n",
        "print(sentence_list)"
      ],
      "execution_count": null,
      "outputs": []
    },
    {
      "cell_type": "code",
      "metadata": {
        "id": "dfoSAXF_RMm7"
      },
      "source": [
        "# A function to return a random greeting response to a user greeting\n",
        "def greeting_response(text):\n",
        "    text = text.lower()\n",
        "\n",
        "    #Bots greeting response\n",
        "    bot_greetings = ['hi','hello','hola','hey','howzit']\n",
        "\n",
        "    #User greeting\n",
        "    user_greetings = ['hi', 'hey', 'hello', 'hola', 'howzit']\n",
        "\n",
        "    for word in text.split():\n",
        "        if word in user_greetings:\n",
        "            return random.choice(bot_greetings)"
      ],
      "execution_count": null,
      "outputs": []
    },
    {
      "cell_type": "code",
      "metadata": {
        "id": "8Yd5C375Rnuh"
      },
      "source": [
        "def index_sort(list_var):\n",
        "    length = len(list_var)\n",
        "    list_index = list(range(0, length))\n",
        "\n",
        "    x = list_var\n",
        "    for i in range(length):\n",
        "        for j in range(length):\n",
        "            if x[list_index[i]] > x[list_index[j]]:\n",
        "\n",
        "               #Swap\n",
        "               temp =  list_index[i]\n",
        "               list_index[i] = list_index[j]\n",
        "               list_index[j] = temp\n",
        "\n",
        "    return list_index\n"
      ],
      "execution_count": null,
      "outputs": []
    },
    {
      "cell_type": "code",
      "metadata": {
        "id": "Xhr_ijNuRtkE"
      },
      "source": [
        "def greeting_response(text):\n",
        "    text = text.lower()\n",
        "\n",
        "    #Bots greeting response\n",
        "    bot_greetings = ['hi','hello','hola','hey','howzit']\n",
        "\n",
        "    #User greeting\n",
        "    user_greetings = ['hi', 'hey', 'hello', 'hola', 'howzit']\n",
        "\n",
        "    for word in text.split():\n",
        "        if word in user_greetings:\n",
        "            return random.choice(bot_greetings)"
      ],
      "execution_count": null,
      "outputs": []
    },
    {
      "cell_type": "code",
      "metadata": {
        "id": "x4hmbLx7R0mb"
      },
      "source": [
        "def bot_response(user_input):\n",
        "    user_input = user_input.lower()\n",
        "    sentence_list.append(user_input)\n",
        "    bot_response = ''\n",
        "    cm = CountVectorizer().fit_transform(sentence_list)\n",
        "    similarity_scores = cosine_similarity(cm[-1], cm)\n",
        "    similarity_scores_list = similarity_scores.flatten()\n",
        "    index = index_sort(similarity_scores_list)\n",
        "    index = index[1:]\n",
        "    response_flag = 0\n",
        "\n",
        "    j = 0\n",
        "    for i in range(len(index)):\n",
        "        if similarity_scores_list[index[i]] > 0.0:\n",
        "            bot_response = bot_response+' '+sentence_list[index[i]]\n",
        "            response_flag = 1\n",
        "            j = j+1\n",
        "        if  j > 2:\n",
        "            break\n",
        "\n",
        "        if response_flag == 0:\n",
        "            bot_response = bot_response+' '+\"I apologize, I don't understand.\"\n",
        "\n",
        "        sentence_list.remove(user_input)\n",
        "        return bot_response\n",
        "\n"
      ],
      "execution_count": null,
      "outputs": []
    },
    {
      "cell_type": "code",
      "metadata": {
        "id": "zEXYHKbYSFT2"
      },
      "source": [
        "    #Start the chat\n",
        "    print(' Hi! call me DoctoRoboto. I will anwser your questions about Chronic Kidney Disease. If you want to exit, type bye')\n",
        "    exit_list = ['exit', 'see you later', 'bye', 'quit', 'break']\n",
        "\n",
        "    while(True):\n",
        "        user_input = input()\n",
        "        if user_input.lower() in exit_list:\n",
        "          print('Doctoroboto out!')\n",
        "          break\n",
        "        else:\n",
        "          if greeting_response(user_input) != None:\n",
        "            print('Doctoroboto: ' + greeting_response(user_input))\n",
        "          else:\n",
        "            print('Doctoroboto: ' +bot_response(user_input))\n",
        "\n",
        "\n",
        "\n"
      ],
      "execution_count": null,
      "outputs": []
    }
  ]
}