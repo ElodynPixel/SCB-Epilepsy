{
  "nbformat": 4,
  "nbformat_minor": 0,
  "metadata": {
    "colab": {
      "name": "SCB-epilepsy.ipynb",
      "provenance": [],
      "collapsed_sections": [],
      "authorship_tag": "ABX9TyORxdICMHnrb8yyqEc7jRrZ",
      "include_colab_link": true
    },
    "kernelspec": {
      "name": "python3",
      "display_name": "Python 3"
    },
    "language_info": {
      "name": "python"
    }
  },
  "cells": [
    {
      "cell_type": "markdown",
      "metadata": {
        "id": "view-in-github",
        "colab_type": "text"
      },
      "source": [
        "<a href=\"https://colab.research.google.com/github/ElodynPixel/SmartHealthChatBoty-Epilepsy/blob/main/SCB_epilepsy.ipynb\" target=\"_parent\"><img src=\"https://colab.research.google.com/assets/colab-badge.svg\" alt=\"Open In Colab\"/></a>"
      ]
    },
    {
      "cell_type": "code",
      "metadata": {
        "id": "RqPwH4EW7bmJ"
      },
      "source": [
        "# Description: A Smart Chatbot to learn more about Epilepsy"
      ],
      "execution_count": null,
      "outputs": []
    },
    {
      "cell_type": "code",
      "metadata": {
        "id": "uyPpDacH73li",
        "colab": {
          "base_uri": "https://localhost:8080/"
        },
        "outputId": "44ee1531-ca8f-42bb-c484-bb3c51111404"
      },
      "source": [
        "pip install nltk"
      ],
      "execution_count": 1,
      "outputs": [
        {
          "output_type": "stream",
          "text": [
            "Requirement already satisfied: nltk in /usr/local/lib/python3.7/dist-packages (3.2.5)\n",
            "Requirement already satisfied: six in /usr/local/lib/python3.7/dist-packages (from nltk) (1.15.0)\n"
          ],
          "name": "stdout"
        }
      ]
    },
    {
      "cell_type": "code",
      "metadata": {
        "id": "4fh3i0HDQxv8",
        "colab": {
          "base_uri": "https://localhost:8080/"
        },
        "outputId": "fbda82f2-eaeb-4752-989c-e748556049b8"
      },
      "source": [
        "pip install newspaper3k"
      ],
      "execution_count": 2,
      "outputs": [
        {
          "output_type": "stream",
          "text": [
            "Collecting newspaper3k\n",
            "\u001b[?25l  Downloading https://files.pythonhosted.org/packages/d7/b9/51afecb35bb61b188a4b44868001de348a0e8134b4dfa00ffc191567c4b9/newspaper3k-0.2.8-py3-none-any.whl (211kB)\n",
            "\r\u001b[K     |█▌                              | 10kB 16.0MB/s eta 0:00:01\r\u001b[K     |███                             | 20kB 16.1MB/s eta 0:00:01\r\u001b[K     |████▋                           | 30kB 10.1MB/s eta 0:00:01\r\u001b[K     |██████▏                         | 40kB 9.2MB/s eta 0:00:01\r\u001b[K     |███████▊                        | 51kB 5.3MB/s eta 0:00:01\r\u001b[K     |█████████▎                      | 61kB 5.6MB/s eta 0:00:01\r\u001b[K     |██████████▉                     | 71kB 6.1MB/s eta 0:00:01\r\u001b[K     |████████████▍                   | 81kB 6.2MB/s eta 0:00:01\r\u001b[K     |██████████████                  | 92kB 6.6MB/s eta 0:00:01\r\u001b[K     |███████████████▌                | 102kB 6.6MB/s eta 0:00:01\r\u001b[K     |█████████████████               | 112kB 6.6MB/s eta 0:00:01\r\u001b[K     |██████████████████▋             | 122kB 6.6MB/s eta 0:00:01\r\u001b[K     |████████████████████▏           | 133kB 6.6MB/s eta 0:00:01\r\u001b[K     |█████████████████████▊          | 143kB 6.6MB/s eta 0:00:01\r\u001b[K     |███████████████████████▎        | 153kB 6.6MB/s eta 0:00:01\r\u001b[K     |████████████████████████▉       | 163kB 6.6MB/s eta 0:00:01\r\u001b[K     |██████████████████████████▍     | 174kB 6.6MB/s eta 0:00:01\r\u001b[K     |████████████████████████████    | 184kB 6.6MB/s eta 0:00:01\r\u001b[K     |█████████████████████████████▌  | 194kB 6.6MB/s eta 0:00:01\r\u001b[K     |███████████████████████████████ | 204kB 6.6MB/s eta 0:00:01\r\u001b[K     |████████████████████████████████| 215kB 6.6MB/s \n",
            "\u001b[?25hCollecting tinysegmenter==0.3\n",
            "  Downloading https://files.pythonhosted.org/packages/17/82/86982e4b6d16e4febc79c2a1d68ee3b707e8a020c5d2bc4af8052d0f136a/tinysegmenter-0.3.tar.gz\n",
            "Requirement already satisfied: PyYAML>=3.11 in /usr/local/lib/python3.7/dist-packages (from newspaper3k) (3.13)\n",
            "Collecting cssselect>=0.9.2\n",
            "  Downloading https://files.pythonhosted.org/packages/3b/d4/3b5c17f00cce85b9a1e6f91096e1cc8e8ede2e1be8e96b87ce1ed09e92c5/cssselect-1.1.0-py2.py3-none-any.whl\n",
            "Collecting tldextract>=2.0.1\n",
            "\u001b[?25l  Downloading https://files.pythonhosted.org/packages/7e/62/b6acd3129c5615b9860e670df07fd55b76175b63e6b7f68282c7cad38e9e/tldextract-3.1.0-py2.py3-none-any.whl (87kB)\n",
            "\u001b[K     |████████████████████████████████| 92kB 5.2MB/s \n",
            "\u001b[?25hCollecting jieba3k>=0.35.1\n",
            "\u001b[?25l  Downloading https://files.pythonhosted.org/packages/a9/cb/2c8332bcdc14d33b0bedd18ae0a4981a069c3513e445120da3c3f23a8aaa/jieba3k-0.35.1.zip (7.4MB)\n",
            "\u001b[K     |████████████████████████████████| 7.4MB 6.1MB/s \n",
            "\u001b[?25hRequirement already satisfied: beautifulsoup4>=4.4.1 in /usr/local/lib/python3.7/dist-packages (from newspaper3k) (4.6.3)\n",
            "Requirement already satisfied: lxml>=3.6.0 in /usr/local/lib/python3.7/dist-packages (from newspaper3k) (4.2.6)\n",
            "Requirement already satisfied: python-dateutil>=2.5.3 in /usr/local/lib/python3.7/dist-packages (from newspaper3k) (2.8.1)\n",
            "Requirement already satisfied: nltk>=3.2.1 in /usr/local/lib/python3.7/dist-packages (from newspaper3k) (3.2.5)\n",
            "Collecting feedparser>=5.2.1\n",
            "\u001b[?25l  Downloading https://files.pythonhosted.org/packages/1c/21/faf1bac028662cc8adb2b5ef7a6f3999a765baa2835331df365289b0ca56/feedparser-6.0.2-py3-none-any.whl (80kB)\n",
            "\u001b[K     |████████████████████████████████| 81kB 8.0MB/s \n",
            "\u001b[?25hCollecting feedfinder2>=0.0.4\n",
            "  Downloading https://files.pythonhosted.org/packages/35/82/1251fefec3bb4b03fd966c7e7f7a41c9fc2bb00d823a34c13f847fd61406/feedfinder2-0.0.4.tar.gz\n",
            "Requirement already satisfied: Pillow>=3.3.0 in /usr/local/lib/python3.7/dist-packages (from newspaper3k) (7.1.2)\n",
            "Requirement already satisfied: requests>=2.10.0 in /usr/local/lib/python3.7/dist-packages (from newspaper3k) (2.23.0)\n",
            "Requirement already satisfied: idna in /usr/local/lib/python3.7/dist-packages (from tldextract>=2.0.1->newspaper3k) (2.10)\n",
            "Collecting requests-file>=1.4\n",
            "  Downloading https://files.pythonhosted.org/packages/77/86/cdb5e8eaed90796aa83a6d9f75cfbd37af553c47a291cd47bc410ef9bdb2/requests_file-1.5.1-py2.py3-none-any.whl\n",
            "Requirement already satisfied: filelock>=3.0.8 in /usr/local/lib/python3.7/dist-packages (from tldextract>=2.0.1->newspaper3k) (3.0.12)\n",
            "Requirement already satisfied: six>=1.5 in /usr/local/lib/python3.7/dist-packages (from python-dateutil>=2.5.3->newspaper3k) (1.15.0)\n",
            "Collecting sgmllib3k\n",
            "  Downloading https://files.pythonhosted.org/packages/9e/bd/3704a8c3e0942d711c1299ebf7b9091930adae6675d7c8f476a7ce48653c/sgmllib3k-1.0.0.tar.gz\n",
            "Requirement already satisfied: urllib3!=1.25.0,!=1.25.1,<1.26,>=1.21.1 in /usr/local/lib/python3.7/dist-packages (from requests>=2.10.0->newspaper3k) (1.24.3)\n",
            "Requirement already satisfied: certifi>=2017.4.17 in /usr/local/lib/python3.7/dist-packages (from requests>=2.10.0->newspaper3k) (2020.12.5)\n",
            "Requirement already satisfied: chardet<4,>=3.0.2 in /usr/local/lib/python3.7/dist-packages (from requests>=2.10.0->newspaper3k) (3.0.4)\n",
            "Building wheels for collected packages: tinysegmenter, jieba3k, feedfinder2, sgmllib3k\n",
            "  Building wheel for tinysegmenter (setup.py) ... \u001b[?25l\u001b[?25hdone\n",
            "  Created wheel for tinysegmenter: filename=tinysegmenter-0.3-cp37-none-any.whl size=13538 sha256=f1971e0fcce43436d3e89ef1104e083532beb87fd3336a4272a36713998a3614\n",
            "  Stored in directory: /root/.cache/pip/wheels/81/2b/43/a02ede72324dd40cdd7ca53aad718c7710628e91b8b0dc0f02\n",
            "  Building wheel for jieba3k (setup.py) ... \u001b[?25l\u001b[?25hdone\n",
            "  Created wheel for jieba3k: filename=jieba3k-0.35.1-cp37-none-any.whl size=7398406 sha256=cee09ef92990b1e4bb1dd33315a918d9624796765a4b431e21052ff0f8195810\n",
            "  Stored in directory: /root/.cache/pip/wheels/83/15/9c/a3f1f67e7f7181170ad37d32e503c35da20627c013f438ed34\n",
            "  Building wheel for feedfinder2 (setup.py) ... \u001b[?25l\u001b[?25hdone\n",
            "  Created wheel for feedfinder2: filename=feedfinder2-0.0.4-cp37-none-any.whl size=3358 sha256=4ab83aa89189c73d95be39d2f05cb929a5777fbcb148dec11267aa03c16fc607\n",
            "  Stored in directory: /root/.cache/pip/wheels/de/03/ca/778e3a7a627e3d98836cc890e7cb40c7575424cfd3340f40ed\n",
            "  Building wheel for sgmllib3k (setup.py) ... \u001b[?25l\u001b[?25hdone\n",
            "  Created wheel for sgmllib3k: filename=sgmllib3k-1.0.0-cp37-none-any.whl size=6067 sha256=23eefc44975da81a48976037177b68b94d4e17d960981b3a634daa624ba9c645\n",
            "  Stored in directory: /root/.cache/pip/wheels/f1/80/5a/444ba08a550cdd241bd9baf8bae44be750efe370adb944506a\n",
            "Successfully built tinysegmenter jieba3k feedfinder2 sgmllib3k\n",
            "Installing collected packages: tinysegmenter, cssselect, requests-file, tldextract, jieba3k, sgmllib3k, feedparser, feedfinder2, newspaper3k\n",
            "Successfully installed cssselect-1.1.0 feedfinder2-0.0.4 feedparser-6.0.2 jieba3k-0.35.1 newspaper3k-0.2.8 requests-file-1.5.1 sgmllib3k-1.0.0 tinysegmenter-0.3 tldextract-3.1.0\n"
          ],
          "name": "stdout"
        }
      ]
    },
    {
      "cell_type": "code",
      "metadata": {
        "id": "HBDaGzy3Q-Vr"
      },
      "source": [
        "# Importing all the libraries that are necessary\n",
        "from newspaper import Article\n",
        "import random\n",
        "import string\n",
        "import nltk\n",
        "from sklearn.feature_extraction.text import CountVectorizer\n",
        "from sklearn.metrics.pairwise import cosine_similarity\n",
        "import numpy as np\n",
        "import warnings\n",
        "warnings.filterwarnings('ignore')"
      ],
      "execution_count": 3,
      "outputs": []
    },
    {
      "cell_type": "code",
      "metadata": {
        "colab": {
          "base_uri": "https://localhost:8080/"
        },
        "id": "2PjRurjWRCYb",
        "outputId": "763128ce-a569-40e8-b57f-b97d60c50979"
      },
      "source": [
        "#Download a punkt package\n",
        "nltk.download('punkt', quiet=True)\n"
      ],
      "execution_count": 4,
      "outputs": [
        {
          "output_type": "execute_result",
          "data": {
            "text/plain": [
              "True"
            ]
          },
          "metadata": {
            "tags": []
          },
          "execution_count": 4
        }
      ]
    },
    {
      "cell_type": "code",
      "metadata": {
        "id": "K7-vqC8HmsQ0"
      },
      "source": [
        "article = Article('https://www.mayoclinic.org/diseases-conditions/epilepsy/symptoms-causes/syc-20350093')\n",
        "article.download()\n",
        "article.parse()\n",
        "article.nlp()\n",
        "corpus = article.text\n"
      ],
      "execution_count": 5,
      "outputs": []
    },
    {
      "cell_type": "code",
      "metadata": {
        "id": "sp5zo6yDoENc",
        "colab": {
          "base_uri": "https://localhost:8080/"
        },
        "outputId": "897cf984-6219-4608-b404-2ee79910cf6a"
      },
      "source": [
        "print(corpus)"
      ],
      "execution_count": 6,
      "outputs": [
        {
          "output_type": "stream",
          "text": [
            "Overview\n",
            "\n",
            "Epilepsy is a central nervous system (neurological) disorder in which brain activity becomes abnormal, causing seizures or periods of unusual behavior, sensations, and sometimes loss of awareness.\n",
            "\n",
            "Anyone can develop epilepsy. Epilepsy affects both males and females of all races, ethnic backgrounds and ages.\n",
            "\n",
            "Seizure symptoms can vary widely. Some people with epilepsy simply stare blankly for a few seconds during a seizure, while others repeatedly twitch their arms or legs. Having a single seizure doesn't mean you have epilepsy. At least two unprovoked seizures are generally required for an epilepsy diagnosis.\n",
            "\n",
            "Treatment with medications or sometimes surgery can control seizures for the majority of people with epilepsy. Some people require lifelong treatment to control seizures, but for others, the seizures eventually go away. Some children with epilepsy may outgrow the condition with age.\n",
            "\n",
            "Epilepsy care at Mayo Clinic\n",
            "\n",
            "Symptoms\n",
            "\n",
            "Because epilepsy is caused by abnormal activity in the brain, seizures can affect any process your brain coordinates. Seizure signs and symptoms may include:\n",
            "\n",
            "Temporary confusion\n",
            "\n",
            "A staring spell\n",
            "\n",
            "Uncontrollable jerking movements of the arms and legs\n",
            "\n",
            "Loss of consciousness or awareness\n",
            "\n",
            "Psychic symptoms such as fear, anxiety or deja vu\n",
            "\n",
            "Symptoms vary depending on the type of seizure. In most cases, a person with epilepsy will tend to have the same type of seizure each time, so the symptoms will be similar from episode to episode.\n",
            "\n",
            "Doctors generally classify seizures as either focal or generalized, based on how the abnormal brain activity begins.\n",
            "\n",
            "Focal seizures\n",
            "\n",
            "When seizures appear to result from abnormal activity in just one area of your brain, they're called focal (partial) seizures. These seizures fall into two categories:\n",
            "\n",
            "Focal seizures without loss of consciousness. Once called simple partial seizures, these seizures don't cause a loss of consciousness. They may alter emotions or change the way things look, smell, feel, taste or sound. They may also result in involuntary jerking of a body part, such as an arm or leg, and spontaneous sensory symptoms such as tingling, dizziness and flashing lights.\n",
            "\n",
            "Once called simple partial seizures, these seizures don't cause a loss of consciousness. They may alter emotions or change the way things look, smell, feel, taste or sound. They may also result in involuntary jerking of a body part, such as an arm or leg, and spontaneous sensory symptoms such as tingling, dizziness and flashing lights. Focal seizures with impaired awareness. Once called complex partial seizures, these seizures involve a change or loss of consciousness or awareness. During a complex partial seizure, you may stare into space and not respond normally to your environment or perform repetitive movements, such as hand rubbing, chewing, swallowing or walking in circles.\n",
            "\n",
            "Symptoms of focal seizures may be confused with other neurological disorders, such as migraine, narcolepsy or mental illness. A thorough examination and testing are needed to distinguish epilepsy from other disorders.\n",
            "\n",
            "Generalized seizures\n",
            "\n",
            "Seizures that appear to involve all areas of the brain are called generalized seizures. Six types of generalized seizures exist.\n",
            "\n",
            "Absence seizures. Absence seizures, previously known as petit mal seizures, often occur in children and are characterized by staring into space or subtle body movements such as eye blinking or lip smacking. These seizures may occur in clusters and cause a brief loss of awareness.\n",
            "\n",
            "Absence seizures, previously known as petit mal seizures, often occur in children and are characterized by staring into space or subtle body movements such as eye blinking or lip smacking. These seizures may occur in clusters and cause a brief loss of awareness. Tonic seizures. Tonic seizures cause stiffening of your muscles. These seizures usually affect muscles in your back, arms and legs and may cause you to fall to the ground.\n",
            "\n",
            "Tonic seizures cause stiffening of your muscles. These seizures usually affect muscles in your back, arms and legs and may cause you to fall to the ground. Atonic seizures. Atonic seizures, also known as drop seizures, cause a loss of muscle control, which may cause you to suddenly collapse or fall down.\n",
            "\n",
            "Atonic seizures, also known as drop seizures, cause a loss of muscle control, which may cause you to suddenly collapse or fall down. Clonic seizures. Clonic seizures are associated with repeated or rhythmic, jerking muscle movements. These seizures usually affect the neck, face and arms.\n",
            "\n",
            "Clonic seizures are associated with repeated or rhythmic, jerking muscle movements. These seizures usually affect the neck, face and arms. Myoclonic seizures. Myoclonic seizures usually appear as sudden brief jerks or twitches of your arms and legs.\n",
            "\n",
            "Myoclonic seizures usually appear as sudden brief jerks or twitches of your arms and legs. Tonic-clonic seizures. Tonic-clonic seizures, previously known as grand mal seizures, are the most dramatic type of epileptic seizure and can cause an abrupt loss of consciousness, body stiffening and shaking, and sometimes loss of bladder control or biting your tongue.\n",
            "\n",
            "When to see a doctor\n",
            "\n",
            "Seek immediate medical help if any of the following occurs:\n",
            "\n",
            "The seizure lasts more than five minutes.\n",
            "\n",
            "Breathing or consciousness doesn't return after the seizure stops.\n",
            "\n",
            "A second seizure follows immediately.\n",
            "\n",
            "You have a high fever.\n",
            "\n",
            "You're experiencing heat exhaustion.\n",
            "\n",
            "You're pregnant.\n",
            "\n",
            "You have diabetes.\n",
            "\n",
            "You've injured yourself during the seizure.\n",
            "\n",
            "If you experience a seizure for the first time, seek medical advice.\n",
            "\n",
            "There is a problem with information submitted for this request. Review/update the information highlighted below and resubmit the form. Get the latest epilepsy help and advice from Mayo Clinic delivered in your inbox. Subscribe for free and receive the latest on epilepsy treatment, care and management. I would like to learn more about: Latest on newly diagnosed epilepsy care Advice for the management of epilepsy ErrorSelect a topic ErrorEmail field is required ErrorInclude a valid email address Subscribe Learn more about Mayo Clinic's use of data. To provide you with the most relevant and helpful information, and understand which information is beneficial, we may combine your email and website usage information with other information we have about you. If you are a Mayo Clinic patient, this could include protected health information. If we combine this information with your protected health information, we will treat all of that information as protected health information, and will only use or disclose that information as set forth in our notice of privacy practices. You may opt-out of email communications at any time by clicking on the unsubscribe link in the e-mail. Thanks for Subscribing You will receive the first epilepsy email message in your inbox shortly. This message will include the latest treatment options, innovations and other information from our epilepsy experts. You may opt out of these emails any time by clicking the unsubscribe link in the email. Start your epilepsy care journey Sorry something went wrong with your subscription Please, try again in a couple of minutes Retry\n",
            "\n",
            "Causes\n",
            "\n",
            "Epilepsy has no identifiable cause in about half the people with the condition. In the other half, the condition may be traced to various factors, including:\n",
            "\n",
            "Genetic influence. Some types of epilepsy, which are categorized by the type of seizure you experience or the part of the brain that is affected, run in families. In these cases, it's likely that there's a genetic influence. Researchers have linked some types of epilepsy to specific genes, but for most people, genes are only part of the cause of epilepsy. Certain genes may make a person more sensitive to environmental conditions that trigger seizures.\n",
            "\n",
            "Head trauma. Head trauma as a result of a car accident or other traumatic injury can cause epilepsy.\n",
            "\n",
            "Head trauma as a result of a car accident or other traumatic injury can cause epilepsy. Brain conditions. Brain conditions that cause damage to the brain, such as brain tumors or strokes, can cause epilepsy. Stroke is a leading cause of epilepsy in adults older than age 35.\n",
            "\n",
            "Brain conditions that cause damage to the brain, such as brain tumors or strokes, can cause epilepsy. Stroke is a leading cause of epilepsy in adults older than age 35. Infectious diseases. Infectious diseases, such as meningitis, AIDS and viral encephalitis, can cause epilepsy.\n",
            "\n",
            "Infectious diseases, such as meningitis, AIDS and viral encephalitis, can cause epilepsy. Prenatal injury. Before birth, babies are sensitive to brain damage that could be caused by several factors, such as an infection in the mother, poor nutrition or oxygen deficiencies. This brain damage can result in epilepsy or cerebral palsy.\n",
            "\n",
            "Before birth, babies are sensitive to brain damage that could be caused by several factors, such as an infection in the mother, poor nutrition or oxygen deficiencies. This brain damage can result in epilepsy or cerebral palsy. Developmental disorders. Epilepsy can sometimes be associated with developmental disorders, such as autism and neurofibromatosis.\n",
            "\n",
            "Risk factors\n",
            "\n",
            "Certain factors may increase your risk of epilepsy:\n",
            "\n",
            "Age. The onset of epilepsy is most common in children and older adults, but the condition can occur at any age.\n",
            "\n",
            "The onset of epilepsy is most common in children and older adults, but the condition can occur at any age. Family history. If you have a family history of epilepsy, you may be at an increased risk of developing a seizure disorder.\n",
            "\n",
            "If you have a family history of epilepsy, you may be at an increased risk of developing a seizure disorder. Head injuries. Head injuries are responsible for some cases of epilepsy. You can reduce your risk by wearing a seat belt while riding in a car and by wearing a helmet while bicycling, skiing, riding a motorcycle or engaging in other activities with a high risk of head injury.\n",
            "\n",
            "Head injuries are responsible for some cases of epilepsy. You can reduce your risk by wearing a seat belt while riding in a car and by wearing a helmet while bicycling, skiing, riding a motorcycle or engaging in other activities with a high risk of head injury. Stroke and other vascular diseases. Stroke and other blood vessel (vascular) diseases can lead to brain damage that may trigger epilepsy. You can take a number of steps to reduce your risk of these diseases, including limiting your intake of alcohol and avoiding cigarettes, eating a healthy diet, and exercising regularly.\n",
            "\n",
            "Stroke and other blood vessel (vascular) diseases can lead to brain damage that may trigger epilepsy. You can take a number of steps to reduce your risk of these diseases, including limiting your intake of alcohol and avoiding cigarettes, eating a healthy diet, and exercising regularly. Dementia. Dementia can increase the risk of epilepsy in older adults.\n",
            "\n",
            "Dementia can increase the risk of epilepsy in older adults. Brain infections. Infections such as meningitis, which causes inflammation in your brain or spinal cord, can increase your risk.\n",
            "\n",
            "Infections such as meningitis, which causes inflammation in your brain or spinal cord, can increase your risk. Seizures in childhood. High fevers in childhood can sometimes be associated with seizures. Children who have seizures due to high fevers generally won't develop epilepsy. The risk of epilepsy increases if a child has a long seizure, another nervous system condition or a family history of epilepsy.\n",
            "\n",
            "Complications\n",
            "\n",
            "Having a seizure at certain times can lead to circumstances that are dangerous to yourself or others.\n",
            "\n",
            "Falling. If you fall during a seizure, you can injure your head or break a bone.\n",
            "\n",
            "If you fall during a seizure, you can injure your head or break a bone. Drowning. If you have epilepsy, you're 15 to 19 times more likely to drown while swimming or bathing than the rest of the population because of the possibility of having a seizure while in the water.\n",
            "\n",
            "If you have epilepsy, you're 15 to 19 times more likely to drown while swimming or bathing than the rest of the population because of the possibility of having a seizure while in the water. Car accidents. A seizure that causes either loss of awareness or control can be dangerous if you're driving a car or operating other equipment. Many states have driver's license restrictions related to a driver's ability to control seizures and impose a minimum amount of time that a driver be seizure-free, ranging from months to years, before being allowed to drive.\n",
            "\n",
            "Pregnancy complications. Seizures during pregnancy pose dangers to both mother and baby, and certain anti-epileptic medications increase the risk of birth defects. If you have epilepsy and you're considering becoming pregnant, talk to your doctor as you plan your pregnancy. Most women with epilepsy can become pregnant and have healthy babies. You'll need to be carefully monitored throughout pregnancy, and medications may need to be adjusted. It's very important that you work with your doctor to plan your pregnancy.\n",
            "\n",
            "Emotional health issues. People with epilepsy are more likely to have psychological problems, especially depression, anxiety and suicidal thoughts and behaviors. Problems may be a result of difficulties dealing with the condition itself as well as medication side effects.\n",
            "\n",
            "Other life-threatening complications of epilepsy are uncommon, but may happen, such as:\n"
          ],
          "name": "stdout"
        }
      ]
    },
    {
      "cell_type": "code",
      "metadata": {
        "id": "bvsJYt9QRG00"
      },
      "source": [
        "#Tokenization\n",
        "text = corpus\n",
        "sentence_list = nltk.sent_tokenize(text) # A list of sentences\n"
      ],
      "execution_count": 7,
      "outputs": []
    },
    {
      "cell_type": "code",
      "metadata": {
        "id": "dfoSAXF_RMm7"
      },
      "source": [
        "# A function to return a random greeting response to a user greeting\n",
        "def greeting_response(text):\n",
        "    text = text.lower()\n",
        "\n",
        "    #Bots greeting response\n",
        "    bot_greetings = ['hi','hello','hola','hey','howzit']\n",
        "\n",
        "    #User greeting\n",
        "    user_greetings = ['hi', 'hey', 'hello', 'hola', 'howzit']\n",
        "\n",
        "    for word in text.split():\n",
        "        if word in user_greetings:\n",
        "            return random.choice(bot_greetings)"
      ],
      "execution_count": null,
      "outputs": []
    },
    {
      "cell_type": "code",
      "metadata": {
        "id": "8Yd5C375Rnuh"
      },
      "source": [
        "def index_sort(list_var):\n",
        "    length = len(list_var)\n",
        "    list_index = list(range(0, length))\n",
        "\n",
        "    x = list_var\n",
        "    for i in range(length):\n",
        "        for j in range(length):\n",
        "            if x[list_index[i]] > x[list_index[j]]:\n",
        "\n",
        "               #Swap\n",
        "               temp =  list_index[i]\n",
        "               list_index[i] = list_index[j]\n",
        "               list_index[j] = temp\n",
        "\n",
        "    return list_index\n"
      ],
      "execution_count": 10,
      "outputs": []
    },
    {
      "cell_type": "code",
      "metadata": {
        "id": "Xhr_ijNuRtkE"
      },
      "source": [
        "def greeting_response(text):\n",
        "    text = text.lower()\n",
        "\n",
        "    #Bots greeting response\n",
        "    bot_greetings = ['hi','hello','hola','hey','howzit']\n",
        "\n",
        "    #User greeting\n",
        "    user_greetings = ['hi', 'hey', 'hello', 'hola', 'howzit']\n",
        "\n",
        "    for word in text.split():\n",
        "        if word in user_greetings:\n",
        "            return random.choice(bot_greetings)"
      ],
      "execution_count": 11,
      "outputs": []
    },
    {
      "cell_type": "code",
      "metadata": {
        "id": "x4hmbLx7R0mb"
      },
      "source": [
        "def bot_response(user_input):\n",
        "    user_input = user_input.lower()\n",
        "    sentence_list.append(user_input)\n",
        "    bot_response = ''\n",
        "    cm = CountVectorizer().fit_transform(sentence_list)\n",
        "    similarity_scores = cosine_similarity(cm[-1], cm)\n",
        "    similarity_scores_list = similarity_scores.flatten()\n",
        "    index = index_sort(similarity_scores_list)\n",
        "    index = index[1:]\n",
        "    response_flag = 0\n",
        "\n",
        "    j = 0\n",
        "    for i in range(len(index)):\n",
        "        if similarity_scores_list[index[i]] > 0.0:\n",
        "            bot_response = bot_response+' '+sentence_list[index[i]]\n",
        "            response_flag = 1\n",
        "            j = j+1\n",
        "        if  j > 2:\n",
        "            break\n",
        "\n",
        "        if response_flag == 0:\n",
        "            bot_response = bot_response+' '+\"I apologize, I don't understand.\"\n",
        "\n",
        "        sentence_list.remove(user_input)\n",
        "        return bot_response\n",
        "\n"
      ],
      "execution_count": 12,
      "outputs": []
    },
    {
      "cell_type": "code",
      "metadata": {
        "id": "zEXYHKbYSFT2",
        "colab": {
          "base_uri": "https://localhost:8080/",
          "height": 1000
        },
        "outputId": "6b16b049-abc8-404f-fbb7-e19836769dfa"
      },
      "source": [
        "    #Start the chat\n",
        "    print(' Hi! call me DoctoRoboto. I will anwser your questions about Epilepsy. If you want to exit, type bye')\n",
        "    exit_list = ['exit', 'see you later', 'bye', 'quit', 'break']\n",
        "\n",
        "    while(True):\n",
        "        user_input = input()\n",
        "        if user_input.lower() in exit_list:\n",
        "          print('Doctoroboto out!')\n",
        "          break\n",
        "        else:\n",
        "          if greeting_response(user_input) != None:\n",
        "            print('Doctoroboto: ' + greeting_response(user_input))\n",
        "          else:\n",
        "            print('Doctoroboto: ' +bot_response(user_input))\n",
        "\n",
        "\n",
        "\n"
      ],
      "execution_count": 13,
      "outputs": [
        {
          "output_type": "stream",
          "text": [
            " Hi! call me DoctoRoboto. I will anwser your questions about Epilespsy. If you want to exit, type bye\n",
            "hi\n",
            "Doctoroboto: hello\n",
            "what is epilespy\n",
            "Doctoroboto:  There is a problem with information submitted for this request.\n",
            "Epilepsy\n",
            "Doctoroboto:  Anyone can develop epilepsy.\n",
            "Overview\n",
            "Doctoroboto:  Overview\n",
            "\n",
            "Epilepsy is a central nervous system (neurological) disorder in which brain activity becomes abnormal, causing seizures or periods of unusual behavior, sensations, and sometimes loss of awareness.\n",
            "Symptoms\n",
            "Doctoroboto:  Seizure symptoms can vary widely.\n",
            "Focal seizures\n",
            "Doctoroboto:  Focal seizures\n",
            "\n",
            "When seizures appear to result from abnormal activity in just one area of your brain, they're called focal (partial) seizures.\n",
            "Generalized seizures\n",
            "Doctoroboto:  Generalized seizures\n",
            "\n",
            "Seizures that appear to involve all areas of the brain are called generalized seizures.\n",
            "When to see a doctor\n",
            "Doctoroboto:  When to see a doctor\n",
            "\n",
            "Seek immediate medical help if any of the following occurs:\n",
            "\n",
            "The seizure lasts more than five minutes.\n"
          ],
          "name": "stdout"
        },
        {
          "output_type": "error",
          "ename": "KeyboardInterrupt",
          "evalue": "ignored",
          "traceback": [
            "\u001b[0;31m---------------------------------------------------------------------------\u001b[0m",
            "\u001b[0;31mKeyboardInterrupt\u001b[0m                         Traceback (most recent call last)",
            "\u001b[0;32m/usr/local/lib/python3.7/dist-packages/ipykernel/kernelbase.py\u001b[0m in \u001b[0;36m_input_request\u001b[0;34m(self, prompt, ident, parent, password)\u001b[0m\n\u001b[1;32m    728\u001b[0m             \u001b[0;32mtry\u001b[0m\u001b[0;34m:\u001b[0m\u001b[0;34m\u001b[0m\u001b[0;34m\u001b[0m\u001b[0m\n\u001b[0;32m--> 729\u001b[0;31m                 \u001b[0mident\u001b[0m\u001b[0;34m,\u001b[0m \u001b[0mreply\u001b[0m \u001b[0;34m=\u001b[0m \u001b[0mself\u001b[0m\u001b[0;34m.\u001b[0m\u001b[0msession\u001b[0m\u001b[0;34m.\u001b[0m\u001b[0mrecv\u001b[0m\u001b[0;34m(\u001b[0m\u001b[0mself\u001b[0m\u001b[0;34m.\u001b[0m\u001b[0mstdin_socket\u001b[0m\u001b[0;34m,\u001b[0m \u001b[0;36m0\u001b[0m\u001b[0;34m)\u001b[0m\u001b[0;34m\u001b[0m\u001b[0;34m\u001b[0m\u001b[0m\n\u001b[0m\u001b[1;32m    730\u001b[0m             \u001b[0;32mexcept\u001b[0m \u001b[0mException\u001b[0m\u001b[0;34m:\u001b[0m\u001b[0;34m\u001b[0m\u001b[0;34m\u001b[0m\u001b[0m\n",
            "\u001b[0;32m/usr/local/lib/python3.7/dist-packages/jupyter_client/session.py\u001b[0m in \u001b[0;36mrecv\u001b[0;34m(self, socket, mode, content, copy)\u001b[0m\n\u001b[1;32m    802\u001b[0m         \u001b[0;32mtry\u001b[0m\u001b[0;34m:\u001b[0m\u001b[0;34m\u001b[0m\u001b[0;34m\u001b[0m\u001b[0m\n\u001b[0;32m--> 803\u001b[0;31m             \u001b[0mmsg_list\u001b[0m \u001b[0;34m=\u001b[0m \u001b[0msocket\u001b[0m\u001b[0;34m.\u001b[0m\u001b[0mrecv_multipart\u001b[0m\u001b[0;34m(\u001b[0m\u001b[0mmode\u001b[0m\u001b[0;34m,\u001b[0m \u001b[0mcopy\u001b[0m\u001b[0;34m=\u001b[0m\u001b[0mcopy\u001b[0m\u001b[0;34m)\u001b[0m\u001b[0;34m\u001b[0m\u001b[0;34m\u001b[0m\u001b[0m\n\u001b[0m\u001b[1;32m    804\u001b[0m         \u001b[0;32mexcept\u001b[0m \u001b[0mzmq\u001b[0m\u001b[0;34m.\u001b[0m\u001b[0mZMQError\u001b[0m \u001b[0;32mas\u001b[0m \u001b[0me\u001b[0m\u001b[0;34m:\u001b[0m\u001b[0;34m\u001b[0m\u001b[0;34m\u001b[0m\u001b[0m\n",
            "\u001b[0;32m/usr/local/lib/python3.7/dist-packages/zmq/sugar/socket.py\u001b[0m in \u001b[0;36mrecv_multipart\u001b[0;34m(self, flags, copy, track)\u001b[0m\n\u001b[1;32m    582\u001b[0m         \"\"\"\n\u001b[0;32m--> 583\u001b[0;31m         \u001b[0mparts\u001b[0m \u001b[0;34m=\u001b[0m \u001b[0;34m[\u001b[0m\u001b[0mself\u001b[0m\u001b[0;34m.\u001b[0m\u001b[0mrecv\u001b[0m\u001b[0;34m(\u001b[0m\u001b[0mflags\u001b[0m\u001b[0;34m,\u001b[0m \u001b[0mcopy\u001b[0m\u001b[0;34m=\u001b[0m\u001b[0mcopy\u001b[0m\u001b[0;34m,\u001b[0m \u001b[0mtrack\u001b[0m\u001b[0;34m=\u001b[0m\u001b[0mtrack\u001b[0m\u001b[0;34m)\u001b[0m\u001b[0;34m]\u001b[0m\u001b[0;34m\u001b[0m\u001b[0;34m\u001b[0m\u001b[0m\n\u001b[0m\u001b[1;32m    584\u001b[0m         \u001b[0;31m# have first part already, only loop while more to receive\u001b[0m\u001b[0;34m\u001b[0m\u001b[0;34m\u001b[0m\u001b[0;34m\u001b[0m\u001b[0m\n",
            "\u001b[0;32mzmq/backend/cython/socket.pyx\u001b[0m in \u001b[0;36mzmq.backend.cython.socket.Socket.recv\u001b[0;34m()\u001b[0m\n",
            "\u001b[0;32mzmq/backend/cython/socket.pyx\u001b[0m in \u001b[0;36mzmq.backend.cython.socket.Socket.recv\u001b[0;34m()\u001b[0m\n",
            "\u001b[0;32mzmq/backend/cython/socket.pyx\u001b[0m in \u001b[0;36mzmq.backend.cython.socket._recv_copy\u001b[0;34m()\u001b[0m\n",
            "\u001b[0;32m/usr/local/lib/python3.7/dist-packages/zmq/backend/cython/checkrc.pxd\u001b[0m in \u001b[0;36mzmq.backend.cython.checkrc._check_rc\u001b[0;34m()\u001b[0m\n",
            "\u001b[0;31mKeyboardInterrupt\u001b[0m: ",
            "\nDuring handling of the above exception, another exception occurred:\n",
            "\u001b[0;31mKeyboardInterrupt\u001b[0m                         Traceback (most recent call last)",
            "\u001b[0;32m<ipython-input-13-265601bd7e2d>\u001b[0m in \u001b[0;36m<module>\u001b[0;34m()\u001b[0m\n\u001b[1;32m      4\u001b[0m \u001b[0;34m\u001b[0m\u001b[0m\n\u001b[1;32m      5\u001b[0m \u001b[0;32mwhile\u001b[0m\u001b[0;34m(\u001b[0m\u001b[0;32mTrue\u001b[0m\u001b[0;34m)\u001b[0m\u001b[0;34m:\u001b[0m\u001b[0;34m\u001b[0m\u001b[0;34m\u001b[0m\u001b[0m\n\u001b[0;32m----> 6\u001b[0;31m     \u001b[0muser_input\u001b[0m \u001b[0;34m=\u001b[0m \u001b[0minput\u001b[0m\u001b[0;34m(\u001b[0m\u001b[0;34m)\u001b[0m\u001b[0;34m\u001b[0m\u001b[0;34m\u001b[0m\u001b[0m\n\u001b[0m\u001b[1;32m      7\u001b[0m     \u001b[0;32mif\u001b[0m \u001b[0muser_input\u001b[0m\u001b[0;34m.\u001b[0m\u001b[0mlower\u001b[0m\u001b[0;34m(\u001b[0m\u001b[0;34m)\u001b[0m \u001b[0;32min\u001b[0m \u001b[0mexit_list\u001b[0m\u001b[0;34m:\u001b[0m\u001b[0;34m\u001b[0m\u001b[0;34m\u001b[0m\u001b[0m\n\u001b[1;32m      8\u001b[0m       \u001b[0mprint\u001b[0m\u001b[0;34m(\u001b[0m\u001b[0;34m'Doctoroboto out!'\u001b[0m\u001b[0;34m)\u001b[0m\u001b[0;34m\u001b[0m\u001b[0;34m\u001b[0m\u001b[0m\n",
            "\u001b[0;32m/usr/local/lib/python3.7/dist-packages/ipykernel/kernelbase.py\u001b[0m in \u001b[0;36mraw_input\u001b[0;34m(self, prompt)\u001b[0m\n\u001b[1;32m    702\u001b[0m             \u001b[0mself\u001b[0m\u001b[0;34m.\u001b[0m\u001b[0m_parent_ident\u001b[0m\u001b[0;34m,\u001b[0m\u001b[0;34m\u001b[0m\u001b[0;34m\u001b[0m\u001b[0m\n\u001b[1;32m    703\u001b[0m             \u001b[0mself\u001b[0m\u001b[0;34m.\u001b[0m\u001b[0m_parent_header\u001b[0m\u001b[0;34m,\u001b[0m\u001b[0;34m\u001b[0m\u001b[0;34m\u001b[0m\u001b[0m\n\u001b[0;32m--> 704\u001b[0;31m             \u001b[0mpassword\u001b[0m\u001b[0;34m=\u001b[0m\u001b[0;32mFalse\u001b[0m\u001b[0;34m,\u001b[0m\u001b[0;34m\u001b[0m\u001b[0;34m\u001b[0m\u001b[0m\n\u001b[0m\u001b[1;32m    705\u001b[0m         )\n\u001b[1;32m    706\u001b[0m \u001b[0;34m\u001b[0m\u001b[0m\n",
            "\u001b[0;32m/usr/local/lib/python3.7/dist-packages/ipykernel/kernelbase.py\u001b[0m in \u001b[0;36m_input_request\u001b[0;34m(self, prompt, ident, parent, password)\u001b[0m\n\u001b[1;32m    732\u001b[0m             \u001b[0;32mexcept\u001b[0m \u001b[0mKeyboardInterrupt\u001b[0m\u001b[0;34m:\u001b[0m\u001b[0;34m\u001b[0m\u001b[0;34m\u001b[0m\u001b[0m\n\u001b[1;32m    733\u001b[0m                 \u001b[0;31m# re-raise KeyboardInterrupt, to truncate traceback\u001b[0m\u001b[0;34m\u001b[0m\u001b[0;34m\u001b[0m\u001b[0;34m\u001b[0m\u001b[0m\n\u001b[0;32m--> 734\u001b[0;31m                 \u001b[0;32mraise\u001b[0m \u001b[0mKeyboardInterrupt\u001b[0m\u001b[0;34m\u001b[0m\u001b[0;34m\u001b[0m\u001b[0m\n\u001b[0m\u001b[1;32m    735\u001b[0m             \u001b[0;32melse\u001b[0m\u001b[0;34m:\u001b[0m\u001b[0;34m\u001b[0m\u001b[0;34m\u001b[0m\u001b[0m\n\u001b[1;32m    736\u001b[0m                 \u001b[0;32mbreak\u001b[0m\u001b[0;34m\u001b[0m\u001b[0;34m\u001b[0m\u001b[0m\n",
            "\u001b[0;31mKeyboardInterrupt\u001b[0m: "
          ]
        }
      ]
    },
    {
      "cell_type": "code",
      "metadata": {
        "id": "FQ4urAcGm89D"
      },
      "source": [
        ""
      ],
      "execution_count": null,
      "outputs": []
    }
  ]
}